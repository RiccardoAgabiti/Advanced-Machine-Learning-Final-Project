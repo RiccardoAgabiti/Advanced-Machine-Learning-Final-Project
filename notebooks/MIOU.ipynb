{
  "nbformat": 4,
  "nbformat_minor": 0,
  "metadata": {
    "colab": {
      "provenance": []
    },
    "kernelspec": {
      "name": "python3",
      "display_name": "Python 3"
    },
    "language_info": {
      "name": "python"
    },
    "gpuClass": "standard",
    "widgets": {
      "application/vnd.jupyter.widget-state+json": {
        "b2e49312a180405182da90c78a410c8a": {
          "model_module": "@jupyter-widgets/controls",
          "model_name": "HBoxModel",
          "model_module_version": "1.5.0",
          "state": {
            "_dom_classes": [],
            "_model_module": "@jupyter-widgets/controls",
            "_model_module_version": "1.5.0",
            "_model_name": "HBoxModel",
            "_view_count": null,
            "_view_module": "@jupyter-widgets/controls",
            "_view_module_version": "1.5.0",
            "_view_name": "HBoxView",
            "box_style": "",
            "children": [
              "IPY_MODEL_32e092f9f4bf4239a3952b8642bc75d7",
              "IPY_MODEL_0891ab538fda4cac8e83493e8d8f9980",
              "IPY_MODEL_bc17f7cbf50d4b8c86c39646caceb73e"
            ],
            "layout": "IPY_MODEL_20103a48d8db4c0483b47c6a4c3f9c5b"
          }
        },
        "32e092f9f4bf4239a3952b8642bc75d7": {
          "model_module": "@jupyter-widgets/controls",
          "model_name": "HTMLModel",
          "model_module_version": "1.5.0",
          "state": {
            "_dom_classes": [],
            "_model_module": "@jupyter-widgets/controls",
            "_model_module_version": "1.5.0",
            "_model_name": "HTMLModel",
            "_view_count": null,
            "_view_module": "@jupyter-widgets/controls",
            "_view_module_version": "1.5.0",
            "_view_name": "HTMLView",
            "description": "",
            "description_tooltip": null,
            "layout": "IPY_MODEL_8c90dd36139f45fa85a8ec1fda341ad5",
            "placeholder": "​",
            "style": "IPY_MODEL_e181a4faa0664deb8cedb5c7244db17f",
            "value": "100%"
          }
        },
        "0891ab538fda4cac8e83493e8d8f9980": {
          "model_module": "@jupyter-widgets/controls",
          "model_name": "FloatProgressModel",
          "model_module_version": "1.5.0",
          "state": {
            "_dom_classes": [],
            "_model_module": "@jupyter-widgets/controls",
            "_model_module_version": "1.5.0",
            "_model_name": "FloatProgressModel",
            "_view_count": null,
            "_view_module": "@jupyter-widgets/controls",
            "_view_module_version": "1.5.0",
            "_view_name": "ProgressView",
            "bar_style": "success",
            "description": "",
            "description_tooltip": null,
            "layout": "IPY_MODEL_eca5eff40b48415ba501a958d67ab471",
            "max": 3,
            "min": 0,
            "orientation": "horizontal",
            "style": "IPY_MODEL_bd61c252fa6d4734bd674bacdd3b3349",
            "value": 3
          }
        },
        "bc17f7cbf50d4b8c86c39646caceb73e": {
          "model_module": "@jupyter-widgets/controls",
          "model_name": "HTMLModel",
          "model_module_version": "1.5.0",
          "state": {
            "_dom_classes": [],
            "_model_module": "@jupyter-widgets/controls",
            "_model_module_version": "1.5.0",
            "_model_name": "HTMLModel",
            "_view_count": null,
            "_view_module": "@jupyter-widgets/controls",
            "_view_module_version": "1.5.0",
            "_view_name": "HTMLView",
            "description": "",
            "description_tooltip": null,
            "layout": "IPY_MODEL_0f4093b971eb44d4a30f2a0d867c7b32",
            "placeholder": "​",
            "style": "IPY_MODEL_023174abb429466a8ad1b7499495cf94",
            "value": " 3/3 [00:00&lt;00:00, 49.97it/s]"
          }
        },
        "20103a48d8db4c0483b47c6a4c3f9c5b": {
          "model_module": "@jupyter-widgets/base",
          "model_name": "LayoutModel",
          "model_module_version": "1.2.0",
          "state": {
            "_model_module": "@jupyter-widgets/base",
            "_model_module_version": "1.2.0",
            "_model_name": "LayoutModel",
            "_view_count": null,
            "_view_module": "@jupyter-widgets/base",
            "_view_module_version": "1.2.0",
            "_view_name": "LayoutView",
            "align_content": null,
            "align_items": null,
            "align_self": null,
            "border": null,
            "bottom": null,
            "display": null,
            "flex": null,
            "flex_flow": null,
            "grid_area": null,
            "grid_auto_columns": null,
            "grid_auto_flow": null,
            "grid_auto_rows": null,
            "grid_column": null,
            "grid_gap": null,
            "grid_row": null,
            "grid_template_areas": null,
            "grid_template_columns": null,
            "grid_template_rows": null,
            "height": null,
            "justify_content": null,
            "justify_items": null,
            "left": null,
            "margin": null,
            "max_height": null,
            "max_width": null,
            "min_height": null,
            "min_width": null,
            "object_fit": null,
            "object_position": null,
            "order": null,
            "overflow": null,
            "overflow_x": null,
            "overflow_y": null,
            "padding": null,
            "right": null,
            "top": null,
            "visibility": null,
            "width": null
          }
        },
        "8c90dd36139f45fa85a8ec1fda341ad5": {
          "model_module": "@jupyter-widgets/base",
          "model_name": "LayoutModel",
          "model_module_version": "1.2.0",
          "state": {
            "_model_module": "@jupyter-widgets/base",
            "_model_module_version": "1.2.0",
            "_model_name": "LayoutModel",
            "_view_count": null,
            "_view_module": "@jupyter-widgets/base",
            "_view_module_version": "1.2.0",
            "_view_name": "LayoutView",
            "align_content": null,
            "align_items": null,
            "align_self": null,
            "border": null,
            "bottom": null,
            "display": null,
            "flex": null,
            "flex_flow": null,
            "grid_area": null,
            "grid_auto_columns": null,
            "grid_auto_flow": null,
            "grid_auto_rows": null,
            "grid_column": null,
            "grid_gap": null,
            "grid_row": null,
            "grid_template_areas": null,
            "grid_template_columns": null,
            "grid_template_rows": null,
            "height": null,
            "justify_content": null,
            "justify_items": null,
            "left": null,
            "margin": null,
            "max_height": null,
            "max_width": null,
            "min_height": null,
            "min_width": null,
            "object_fit": null,
            "object_position": null,
            "order": null,
            "overflow": null,
            "overflow_x": null,
            "overflow_y": null,
            "padding": null,
            "right": null,
            "top": null,
            "visibility": null,
            "width": null
          }
        },
        "e181a4faa0664deb8cedb5c7244db17f": {
          "model_module": "@jupyter-widgets/controls",
          "model_name": "DescriptionStyleModel",
          "model_module_version": "1.5.0",
          "state": {
            "_model_module": "@jupyter-widgets/controls",
            "_model_module_version": "1.5.0",
            "_model_name": "DescriptionStyleModel",
            "_view_count": null,
            "_view_module": "@jupyter-widgets/base",
            "_view_module_version": "1.2.0",
            "_view_name": "StyleView",
            "description_width": ""
          }
        },
        "eca5eff40b48415ba501a958d67ab471": {
          "model_module": "@jupyter-widgets/base",
          "model_name": "LayoutModel",
          "model_module_version": "1.2.0",
          "state": {
            "_model_module": "@jupyter-widgets/base",
            "_model_module_version": "1.2.0",
            "_model_name": "LayoutModel",
            "_view_count": null,
            "_view_module": "@jupyter-widgets/base",
            "_view_module_version": "1.2.0",
            "_view_name": "LayoutView",
            "align_content": null,
            "align_items": null,
            "align_self": null,
            "border": null,
            "bottom": null,
            "display": null,
            "flex": null,
            "flex_flow": null,
            "grid_area": null,
            "grid_auto_columns": null,
            "grid_auto_flow": null,
            "grid_auto_rows": null,
            "grid_column": null,
            "grid_gap": null,
            "grid_row": null,
            "grid_template_areas": null,
            "grid_template_columns": null,
            "grid_template_rows": null,
            "height": null,
            "justify_content": null,
            "justify_items": null,
            "left": null,
            "margin": null,
            "max_height": null,
            "max_width": null,
            "min_height": null,
            "min_width": null,
            "object_fit": null,
            "object_position": null,
            "order": null,
            "overflow": null,
            "overflow_x": null,
            "overflow_y": null,
            "padding": null,
            "right": null,
            "top": null,
            "visibility": null,
            "width": null
          }
        },
        "bd61c252fa6d4734bd674bacdd3b3349": {
          "model_module": "@jupyter-widgets/controls",
          "model_name": "ProgressStyleModel",
          "model_module_version": "1.5.0",
          "state": {
            "_model_module": "@jupyter-widgets/controls",
            "_model_module_version": "1.5.0",
            "_model_name": "ProgressStyleModel",
            "_view_count": null,
            "_view_module": "@jupyter-widgets/base",
            "_view_module_version": "1.2.0",
            "_view_name": "StyleView",
            "bar_color": null,
            "description_width": ""
          }
        },
        "0f4093b971eb44d4a30f2a0d867c7b32": {
          "model_module": "@jupyter-widgets/base",
          "model_name": "LayoutModel",
          "model_module_version": "1.2.0",
          "state": {
            "_model_module": "@jupyter-widgets/base",
            "_model_module_version": "1.2.0",
            "_model_name": "LayoutModel",
            "_view_count": null,
            "_view_module": "@jupyter-widgets/base",
            "_view_module_version": "1.2.0",
            "_view_name": "LayoutView",
            "align_content": null,
            "align_items": null,
            "align_self": null,
            "border": null,
            "bottom": null,
            "display": null,
            "flex": null,
            "flex_flow": null,
            "grid_area": null,
            "grid_auto_columns": null,
            "grid_auto_flow": null,
            "grid_auto_rows": null,
            "grid_column": null,
            "grid_gap": null,
            "grid_row": null,
            "grid_template_areas": null,
            "grid_template_columns": null,
            "grid_template_rows": null,
            "height": null,
            "justify_content": null,
            "justify_items": null,
            "left": null,
            "margin": null,
            "max_height": null,
            "max_width": null,
            "min_height": null,
            "min_width": null,
            "object_fit": null,
            "object_position": null,
            "order": null,
            "overflow": null,
            "overflow_x": null,
            "overflow_y": null,
            "padding": null,
            "right": null,
            "top": null,
            "visibility": null,
            "width": null
          }
        },
        "023174abb429466a8ad1b7499495cf94": {
          "model_module": "@jupyter-widgets/controls",
          "model_name": "DescriptionStyleModel",
          "model_module_version": "1.5.0",
          "state": {
            "_model_module": "@jupyter-widgets/controls",
            "_model_module_version": "1.5.0",
            "_model_name": "DescriptionStyleModel",
            "_view_count": null,
            "_view_module": "@jupyter-widgets/base",
            "_view_module_version": "1.2.0",
            "_view_name": "StyleView",
            "description_width": ""
          }
        }
      }
    },
    "accelerator": "GPU"
  },
  "cells": [
    {
      "cell_type": "code",
      "source": [
        "from google.colab import drive\n",
        "drive.mount('/content/drive')"
      ],
      "metadata": {
        "colab": {
          "base_uri": "https://localhost:8080/"
        },
        "id": "21shq1njVX2e",
        "outputId": "774626dc-4ba9-4211-9da3-b68a01ca5f37"
      },
      "execution_count": null,
      "outputs": [
        {
          "output_type": "stream",
          "name": "stdout",
          "text": [
            "Drive already mounted at /content/drive; to attempt to forcibly remount, call drive.mount(\"/content/drive\", force_remount=True).\n"
          ]
        }
      ]
    },
    {
      "cell_type": "code",
      "source": [
        "!pip install -q datasets transformers evaluate pynvml accelerate"
      ],
      "metadata": {
        "id": "KA_qK6PeWXGu"
      },
      "execution_count": null,
      "outputs": []
    },
    {
      "cell_type": "code",
      "source": [
        "import torch\n",
        "import numpy as np\n",
        "from torch import nn\n",
        "import json\n",
        "from torchvision.transforms import ColorJitter\n",
        "from functools import reduce\n",
        "from typing import Union\n",
        "import math\n",
        "import torch.nn.functional as F\n",
        "import pickle\n",
        "import os\n",
        "import psutil\n",
        "from huggingface_hub import hf_hub_download\n",
        "from pynvml import *\n",
        "from datasets import load_dataset, load_from_disk\n",
        "import evaluate\n",
        "from transformers import SegformerFeatureExtractor\n",
        "from transformers import TrainingArguments, Trainer, logging\n",
        "from transformers import AutoModelForSemanticSegmentation\n",
        "from transformers import SegformerForSemanticSegmentation, SegformerConfig"
      ],
      "metadata": {
        "id": "70RRBtrdVL3F"
      },
      "execution_count": null,
      "outputs": []
    },
    {
      "cell_type": "code",
      "source": [
        "device = torch.device(\"cuda\" if torch.cuda.is_available() else \"cpu\")  "
      ],
      "metadata": {
        "id": "ehHbHPNMrFXP"
      },
      "execution_count": null,
      "outputs": []
    },
    {
      "cell_type": "code",
      "execution_count": null,
      "metadata": {
        "id": "oS-y0S0qqKum"
      },
      "outputs": [],
      "source": [
        "def NEG_INF_DIAG(n: int, device: torch.device) -> torch.Tensor:\n",
        "    \"\"\"Returns a diagonal matrix of size [n, n].\n",
        "\n",
        "    The diagonal are all \"-inf\". This is for avoiding calculating the\n",
        "    overlapped element in the Criss-Cross twice.\n",
        "    \"\"\"\n",
        "    return torch.diag(torch.tensor(float('-inf')).to(device).repeat(n), 0)\n",
        "\n",
        "\n",
        "class Scale(nn.Module):\n",
        "    \"\"\"A learnable scale parameter.\n",
        "\n",
        "    This layer scales the input by a learnable factor. It multiplies a\n",
        "    learnable scale parameter of shape (1,) with input of any shape.\n",
        "\n",
        "    Args:\n",
        "        scale (float): Initial value of scale factor. Default: 1.0\n",
        "    \"\"\"\n",
        "\n",
        "    def __init__(self, scale: float = 1.0):\n",
        "        super().__init__()\n",
        "        self.scale = nn.Parameter(torch.tensor(scale, dtype=torch.float))\n",
        "\n",
        "    def forward(self, x: torch.Tensor) -> torch.Tensor:\n",
        "        return x * self.scale\n",
        "\n",
        "\n",
        "class CrissCrossAttention(nn.Module):\n",
        "    \"\"\"Criss-Cross Attention Module.\n",
        "\n",
        "    .. note::\n",
        "        Before v1.3.13, we use a CUDA op. Since v1.3.13, we switch\n",
        "        to a pure PyTorch and equivalent implementation. For more\n",
        "        details, please refer to https://github.com/open-mmlab/mmcv/pull/1201.\n",
        "\n",
        "        Speed comparison for one forward pass\n",
        "\n",
        "        - Input size: [2,512,97,97]\n",
        "        - Device: 1 NVIDIA GeForce RTX 2080 Ti\n",
        "\n",
        "        +-----------------------+---------------+------------+---------------+\n",
        "        |                       |PyTorch version|CUDA version|Relative speed |\n",
        "        +=======================+===============+============+===============+\n",
        "        |with torch.no_grad()   |0.00554402 s   |0.0299619 s |5.4x           |\n",
        "        +-----------------------+---------------+------------+---------------+\n",
        "        |no with torch.no_grad()|0.00562803 s   |0.0301349 s |5.4x           |\n",
        "        +-----------------------+---------------+------------+---------------+\n",
        "\n",
        "    Args:\n",
        "        in_channels (int): Channels of the input feature map.\n",
        "    \"\"\"\n",
        "\n",
        "    def __init__(self, in_channels: int) -> None:\n",
        "        super().__init__()\n",
        "        self.query_conv = nn.Conv2d(in_channels, in_channels // 8, 1)\n",
        "        self.key_conv = nn.Conv2d(in_channels, in_channels // 8, 1)\n",
        "        self.value_conv = nn.Conv2d(in_channels, in_channels, 1)\n",
        "        self.gamma = Scale(0.)\n",
        "        self.in_channels = in_channels\n",
        "\n",
        "    def forward(self, x: torch.Tensor) -> torch.Tensor:\n",
        "        \"\"\"forward function of Criss-Cross Attention.\n",
        "\n",
        "        Args:\n",
        "            x (torch.Tensor): Input feature with the shape of\n",
        "                (batch_size, in_channels, height, width).\n",
        "\n",
        "        Returns:\n",
        "            torch.Tensor: Output of the layer, with the shape of\n",
        "            (batch_size, in_channels, height, width)\n",
        "        \"\"\"\n",
        "        B, C, H, W = x.size()\n",
        "        query = self.query_conv(x)\n",
        "        key = self.key_conv(x)\n",
        "        value = self.value_conv(x)\n",
        "        energy_H = torch.einsum('bchw,bciw->bwhi', query, key) + NEG_INF_DIAG(\n",
        "            H, query.device)\n",
        "        energy_H = energy_H.transpose(1, 2)\n",
        "        energy_W = torch.einsum('bchw,bchj->bhwj', query, key)\n",
        "        attn = F.softmax(\n",
        "            torch.cat([energy_H, energy_W], dim=-1), dim=-1)  # [B,H,W,(H+W)]\n",
        "        out = torch.einsum('bciw,bhwi->bchw', value, attn[..., :H])\n",
        "        out += torch.einsum('bchj,bhwj->bchw', value, attn[..., H:])\n",
        "\n",
        "        out = self.gamma(out) + x\n",
        "        out = out.contiguous()\n",
        "\n",
        "        return out\n",
        "\n",
        "\n",
        "    def __repr__(self) -> str:\n",
        "        s = self.__class__.__name__\n",
        "        s += f'(in_channels={self.in_channels})'\n",
        "        return s"
      ]
    },
    {
      "cell_type": "code",
      "source": [
        "class MySegformerAttention(nn.Module):\n",
        "    def __init__(self, config, hidden_size):\n",
        "        super().__init__()\n",
        "        self.cca = CrissCrossAttention(hidden_size)\n",
        "        \n",
        "\n",
        "\n",
        "    def forward(self, hidden_states, height, width, output_attentions=False):\n",
        "       \n",
        "        #self_outputs = self.self(hidden_states, height, width, output_attentions)\n",
        "        #context_layer = self_outputs[0] # (1,16384,32) = (1,height*width,hidden_states.shape[-1] )\n",
        "\n",
        "        x=torch.reshape(hidden_states, (hidden_states.shape[0],hidden_states.shape[-1], height, width))\n",
        "        self_outputs= self.cca(x)\n",
        "        self_outputs=torch.reshape(self_outputs, (hidden_states.shape[0], height*width, hidden_states.shape[-1]))\n",
        "        self_outputs=(self_outputs,)\n",
        "\n",
        "\n",
        "        #attention_output = self.output(self_outputs[0], hidden_states) # (1,16384,32)\n",
        "        #outputs = (attention_output,) + self_outputs[1:]  # add attentions if we output them\n",
        "        #print('outputs: ', (outputs[0].shape)) (1,16384,32)\n",
        "       \n",
        "        return self_outputs\n",
        "\n"
      ],
      "metadata": {
        "id": "BXCW1WGlJ86t"
      },
      "execution_count": null,
      "outputs": []
    },
    {
      "cell_type": "code",
      "source": [
        "ds = load_dataset(\"scene_parse_150\")"
      ],
      "metadata": {
        "id": "G02mwcufeYo8",
        "colab": {
          "base_uri": "https://localhost:8080/",
          "height": 104,
          "referenced_widgets": [
            "b2e49312a180405182da90c78a410c8a",
            "32e092f9f4bf4239a3952b8642bc75d7",
            "0891ab538fda4cac8e83493e8d8f9980",
            "bc17f7cbf50d4b8c86c39646caceb73e",
            "20103a48d8db4c0483b47c6a4c3f9c5b",
            "8c90dd36139f45fa85a8ec1fda341ad5",
            "e181a4faa0664deb8cedb5c7244db17f",
            "eca5eff40b48415ba501a958d67ab471",
            "bd61c252fa6d4734bd674bacdd3b3349",
            "0f4093b971eb44d4a30f2a0d867c7b32",
            "023174abb429466a8ad1b7499495cf94"
          ]
        },
        "outputId": "9e82964e-7b41-434d-b9cf-b282802cfc70"
      },
      "execution_count": null,
      "outputs": [
        {
          "output_type": "stream",
          "name": "stderr",
          "text": [
            "WARNING:datasets.builder:No config specified, defaulting to: scene_parse_150/scene_parsing\n",
            "WARNING:datasets.builder:Found cached dataset scene_parse_150 (/root/.cache/huggingface/datasets/scene_parse_150/scene_parsing/1.0.0/d998c54e1b5c5bad12b4d2ec7e1a5f74eee4c153bc1b089a0001677ae9b3fd75)\n"
          ]
        },
        {
          "output_type": "display_data",
          "data": {
            "text/plain": [
              "  0%|          | 0/3 [00:00<?, ?it/s]"
            ],
            "application/vnd.jupyter.widget-view+json": {
              "version_major": 2,
              "version_minor": 0,
              "model_id": "b2e49312a180405182da90c78a410c8a"
            }
          },
          "metadata": {}
        }
      ]
    },
    {
      "cell_type": "code",
      "source": [
        "validation_ds=ds['validation']"
      ],
      "metadata": {
        "id": "CU_Agfv9nLJO"
      },
      "execution_count": null,
      "outputs": []
    },
    {
      "cell_type": "code",
      "source": [
        "repo_id = \"huggingface/label-files\"\n",
        "filename = \"ade20k-id2label.json\"\n",
        "id2label = json.load(open(hf_hub_download(repo_id, filename, repo_type=\"dataset\"), \"r\"))\n",
        "id2label = {int(k):v for k,v in id2label.items()}\n",
        "\n",
        "label2id = {v: k for k, v in id2label.items()}\n",
        "num_labels = len(id2label)"
      ],
      "metadata": {
        "id": "FWBPsbWE1x1F"
      },
      "execution_count": null,
      "outputs": []
    },
    {
      "cell_type": "code",
      "source": [
        "path='/content/drive/MyDrive/AML/models'\n",
        "model=torch.load(path+'/very_final_train/epoch8')"
      ],
      "metadata": {
        "id": "vUFADuL6n5hR"
      },
      "execution_count": null,
      "outputs": []
    },
    {
      "cell_type": "code",
      "source": [
        "#FUNZIONA, VEDIAMO SE NON SCOPPIA LA RAM\n",
        "from tqdm import tqdm\n",
        "feature_extractor = SegformerFeatureExtractor()\n",
        "metric = evaluate.load(\"mean_iou\")\n",
        "n=2000\n",
        "mious=[]\n",
        "validation_ds.set_format('pytorch')\n",
        "data=validation_ds\n",
        "for i in tqdm(range(n)):\n",
        "  img=data[i]['image']\n",
        "  outputs=model(feature_extractor(img, return_tensors=\"pt\").pixel_values.to(device))\n",
        "  logits = outputs.logits#.cpu()\n",
        "  upsampled_logits = nn.functional.interpolate(\n",
        "      logits,\n",
        "      size=img.shape[:-1],\n",
        "      mode=\"bilinear\",\n",
        "      align_corners=False,\n",
        "      )\n",
        "  pred_seg = upsampled_logits.argmax(dim=1)[0].to(dtype=torch.uint8)\n",
        "  mask=data[i]['annotation']\n",
        "  metrics=metric.compute(predictions=[pred_seg], references=[mask], \n",
        "                         num_labels=num_labels, ignore_index=255, \n",
        "                         reduce_labels=False)\n",
        "  mious.append(metrics['mean_iou'])"
      ],
      "metadata": {
        "colab": {
          "base_uri": "https://localhost:8080/"
        },
        "id": "lrW_y4NF21Rw",
        "outputId": "92930113-a04c-468c-f01b-90fc7ab885f9"
      },
      "execution_count": null,
      "outputs": [
        {
          "output_type": "stream",
          "name": "stderr",
          "text": [
            "  0%|          | 0/2000 [00:00<?, ?it/s]/root/.cache/huggingface/modules/evaluate_modules/metrics/evaluate-metric--mean_iou/08bc20f4f895f3caf75fb9e3fada1404bded3c3265243d05327cbb3b9326ffe9/mean_iou.py:259: RuntimeWarning: invalid value encountered in true_divide\n",
            "  iou = total_area_intersect / total_area_union\n",
            "/root/.cache/huggingface/modules/evaluate_modules/metrics/evaluate-metric--mean_iou/08bc20f4f895f3caf75fb9e3fada1404bded3c3265243d05327cbb3b9326ffe9/mean_iou.py:260: RuntimeWarning: invalid value encountered in true_divide\n",
            "  acc = total_area_intersect / total_area_label\n",
            "100%|██████████| 2000/2000 [51:03<00:00,  1.53s/it]\n"
          ]
        }
      ]
    },
    {
      "cell_type": "code",
      "source": [
        "np.mean(mious)"
      ],
      "metadata": {
        "id": "ltKDFPFY5CEH",
        "colab": {
          "base_uri": "https://localhost:8080/"
        },
        "outputId": "95cdbd35-3203-4c4e-e3cc-939619589dd8"
      },
      "execution_count": null,
      "outputs": [
        {
          "output_type": "execute_result",
          "data": {
            "text/plain": [
              "0.0994517111424355"
            ]
          },
          "metadata": {},
          "execution_count": 13
        }
      ]
    },
    {
      "cell_type": "code",
      "source": [],
      "metadata": {
        "id": "oGInoIZGZxCB"
      },
      "execution_count": null,
      "outputs": []
    }
  ]
}